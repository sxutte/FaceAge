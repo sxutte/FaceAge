{
  "nbformat": 4,
  "nbformat_minor": 0,
  "metadata": {
    "colab": {
      "name": "40_윤홍주 , 이창원 _ FaceAge.ipynb",
      "provenance": [],
      "collapsed_sections": [],
      "include_colab_link": true
    },
    "kernelspec": {
      "name": "python3",
      "display_name": "Python 3"
    }
  },
  "cells": [
    {
      "cell_type": "markdown",
      "metadata": {
        "id": "view-in-github",
        "colab_type": "text"
      },
      "source": [
        "<a href=\"https://colab.research.google.com/github/sxutte/FaceAge/blob/main/40_%EC%9C%A4%ED%99%8D%EC%A3%BC_%2C_%EC%9D%B4%EC%B0%BD%EC%9B%90___FaceAge.ipynb\" target=\"_parent\"><img src=\"https://colab.research.google.com/assets/colab-badge.svg\" alt=\"Open In Colab\"/></a>"
      ]
    },
    {
      "cell_type": "code",
      "metadata": {
        "id": "HLvpEuVt7JK-"
      },
      "source": [
        ""
      ],
      "execution_count": null,
      "outputs": []
    },
    {
      "cell_type": "code",
      "metadata": {
        "id": "OFuCV7Bj-P7p",
        "colab": {
          "base_uri": "https://localhost:8080/",
          "height": 35
        },
        "outputId": "d0123d04-bdd9-4ca3-9700-e5024f530295"
      },
      "source": [
        "# 패키지 불러오기\n",
        "from keras.models import Sequential\n",
        "from keras.layers import Conv2D, MaxPool2D, Dense, Flatten\n",
        "from keras.preprocessing.image import ImageDataGenerator \n",
        "\n",
        "import numpy as np\n",
        "import os\n",
        "\n",
        "os.getcwd()"
      ],
      "execution_count": null,
      "outputs": [
        {
          "output_type": "execute_result",
          "data": {
            "application/vnd.google.colaboratory.intrinsic+json": {
              "type": "string"
            },
            "text/plain": [
              "'/content'"
            ]
          },
          "metadata": {
            "tags": []
          },
          "execution_count": 1
        }
      ]
    },
    {
      "cell_type": "code",
      "metadata": {
        "id": "KEf-mlv6owwC"
      },
      "source": [
        ""
      ],
      "execution_count": null,
      "outputs": []
    },
    {
      "cell_type": "code",
      "metadata": {
        "id": "1ELOagz7-nz5",
        "colab": {
          "base_uri": "https://localhost:8080/",
          "height": 556
        },
        "outputId": "30d872a4-5286-4c49-974b-22082314fb64"
      },
      "source": [
        "from google.colab import drive\n",
        "drive.mount('/content/drive')"
      ],
      "execution_count": null,
      "outputs": [
        {
          "output_type": "error",
          "ename": "KeyboardInterrupt",
          "evalue": "ignored",
          "traceback": [
            "\u001b[0;31m---------------------------------------------------------------------------\u001b[0m",
            "\u001b[0;31mKeyboardInterrupt\u001b[0m                         Traceback (most recent call last)",
            "\u001b[0;32m/usr/local/lib/python3.7/dist-packages/ipykernel/kernelbase.py\u001b[0m in \u001b[0;36m_input_request\u001b[0;34m(self, prompt, ident, parent, password)\u001b[0m\n\u001b[1;32m    728\u001b[0m             \u001b[0;32mtry\u001b[0m\u001b[0;34m:\u001b[0m\u001b[0;34m\u001b[0m\u001b[0;34m\u001b[0m\u001b[0m\n\u001b[0;32m--> 729\u001b[0;31m                 \u001b[0mident\u001b[0m\u001b[0;34m,\u001b[0m \u001b[0mreply\u001b[0m \u001b[0;34m=\u001b[0m \u001b[0mself\u001b[0m\u001b[0;34m.\u001b[0m\u001b[0msession\u001b[0m\u001b[0;34m.\u001b[0m\u001b[0mrecv\u001b[0m\u001b[0;34m(\u001b[0m\u001b[0mself\u001b[0m\u001b[0;34m.\u001b[0m\u001b[0mstdin_socket\u001b[0m\u001b[0;34m,\u001b[0m \u001b[0;36m0\u001b[0m\u001b[0;34m)\u001b[0m\u001b[0;34m\u001b[0m\u001b[0;34m\u001b[0m\u001b[0m\n\u001b[0m\u001b[1;32m    730\u001b[0m             \u001b[0;32mexcept\u001b[0m \u001b[0mException\u001b[0m\u001b[0;34m:\u001b[0m\u001b[0;34m\u001b[0m\u001b[0;34m\u001b[0m\u001b[0m\n",
            "\u001b[0;32m/usr/local/lib/python3.7/dist-packages/jupyter_client/session.py\u001b[0m in \u001b[0;36mrecv\u001b[0;34m(self, socket, mode, content, copy)\u001b[0m\n\u001b[1;32m    802\u001b[0m         \u001b[0;32mtry\u001b[0m\u001b[0;34m:\u001b[0m\u001b[0;34m\u001b[0m\u001b[0;34m\u001b[0m\u001b[0m\n\u001b[0;32m--> 803\u001b[0;31m             \u001b[0mmsg_list\u001b[0m \u001b[0;34m=\u001b[0m \u001b[0msocket\u001b[0m\u001b[0;34m.\u001b[0m\u001b[0mrecv_multipart\u001b[0m\u001b[0;34m(\u001b[0m\u001b[0mmode\u001b[0m\u001b[0;34m,\u001b[0m \u001b[0mcopy\u001b[0m\u001b[0;34m=\u001b[0m\u001b[0mcopy\u001b[0m\u001b[0;34m)\u001b[0m\u001b[0;34m\u001b[0m\u001b[0;34m\u001b[0m\u001b[0m\n\u001b[0m\u001b[1;32m    804\u001b[0m         \u001b[0;32mexcept\u001b[0m \u001b[0mzmq\u001b[0m\u001b[0;34m.\u001b[0m\u001b[0mZMQError\u001b[0m \u001b[0;32mas\u001b[0m \u001b[0me\u001b[0m\u001b[0;34m:\u001b[0m\u001b[0;34m\u001b[0m\u001b[0;34m\u001b[0m\u001b[0m\n",
            "\u001b[0;32m/usr/local/lib/python3.7/dist-packages/zmq/sugar/socket.py\u001b[0m in \u001b[0;36mrecv_multipart\u001b[0;34m(self, flags, copy, track)\u001b[0m\n\u001b[1;32m    582\u001b[0m         \"\"\"\n\u001b[0;32m--> 583\u001b[0;31m         \u001b[0mparts\u001b[0m \u001b[0;34m=\u001b[0m \u001b[0;34m[\u001b[0m\u001b[0mself\u001b[0m\u001b[0;34m.\u001b[0m\u001b[0mrecv\u001b[0m\u001b[0;34m(\u001b[0m\u001b[0mflags\u001b[0m\u001b[0;34m,\u001b[0m \u001b[0mcopy\u001b[0m\u001b[0;34m=\u001b[0m\u001b[0mcopy\u001b[0m\u001b[0;34m,\u001b[0m \u001b[0mtrack\u001b[0m\u001b[0;34m=\u001b[0m\u001b[0mtrack\u001b[0m\u001b[0;34m)\u001b[0m\u001b[0;34m]\u001b[0m\u001b[0;34m\u001b[0m\u001b[0;34m\u001b[0m\u001b[0m\n\u001b[0m\u001b[1;32m    584\u001b[0m         \u001b[0;31m# have first part already, only loop while more to receive\u001b[0m\u001b[0;34m\u001b[0m\u001b[0;34m\u001b[0m\u001b[0;34m\u001b[0m\u001b[0m\n",
            "\u001b[0;32mzmq/backend/cython/socket.pyx\u001b[0m in \u001b[0;36mzmq.backend.cython.socket.Socket.recv\u001b[0;34m()\u001b[0m\n",
            "\u001b[0;32mzmq/backend/cython/socket.pyx\u001b[0m in \u001b[0;36mzmq.backend.cython.socket.Socket.recv\u001b[0;34m()\u001b[0m\n",
            "\u001b[0;32mzmq/backend/cython/socket.pyx\u001b[0m in \u001b[0;36mzmq.backend.cython.socket._recv_copy\u001b[0;34m()\u001b[0m\n",
            "\u001b[0;32m/usr/local/lib/python3.7/dist-packages/zmq/backend/cython/checkrc.pxd\u001b[0m in \u001b[0;36mzmq.backend.cython.checkrc._check_rc\u001b[0;34m()\u001b[0m\n",
            "\u001b[0;31mKeyboardInterrupt\u001b[0m: ",
            "\nDuring handling of the above exception, another exception occurred:\n",
            "\u001b[0;31mKeyboardInterrupt\u001b[0m                         Traceback (most recent call last)",
            "\u001b[0;32m<ipython-input-2-d5df0069828e>\u001b[0m in \u001b[0;36m<module>\u001b[0;34m()\u001b[0m\n\u001b[1;32m      1\u001b[0m \u001b[0;32mfrom\u001b[0m \u001b[0mgoogle\u001b[0m\u001b[0;34m.\u001b[0m\u001b[0mcolab\u001b[0m \u001b[0;32mimport\u001b[0m \u001b[0mdrive\u001b[0m\u001b[0;34m\u001b[0m\u001b[0;34m\u001b[0m\u001b[0m\n\u001b[0;32m----> 2\u001b[0;31m \u001b[0mdrive\u001b[0m\u001b[0;34m.\u001b[0m\u001b[0mmount\u001b[0m\u001b[0;34m(\u001b[0m\u001b[0;34m'/content/drive'\u001b[0m\u001b[0;34m)\u001b[0m\u001b[0;34m\u001b[0m\u001b[0;34m\u001b[0m\u001b[0m\n\u001b[0m",
            "\u001b[0;32m/usr/local/lib/python3.7/dist-packages/google/colab/drive.py\u001b[0m in \u001b[0;36mmount\u001b[0;34m(mountpoint, force_remount, timeout_ms, use_metadata_server)\u001b[0m\n\u001b[1;32m    258\u001b[0m       \u001b[0;32mwith\u001b[0m \u001b[0m_output\u001b[0m\u001b[0;34m.\u001b[0m\u001b[0muse_tags\u001b[0m\u001b[0;34m(\u001b[0m\u001b[0;34m'dfs-auth-dance'\u001b[0m\u001b[0;34m)\u001b[0m\u001b[0;34m:\u001b[0m\u001b[0;34m\u001b[0m\u001b[0;34m\u001b[0m\u001b[0m\n\u001b[1;32m    259\u001b[0m         \u001b[0;32mwith\u001b[0m \u001b[0mopen\u001b[0m\u001b[0;34m(\u001b[0m\u001b[0mfifo\u001b[0m\u001b[0;34m,\u001b[0m \u001b[0;34m'w'\u001b[0m\u001b[0;34m)\u001b[0m \u001b[0;32mas\u001b[0m \u001b[0mfifo_file\u001b[0m\u001b[0;34m:\u001b[0m\u001b[0;34m\u001b[0m\u001b[0;34m\u001b[0m\u001b[0m\n\u001b[0;32m--> 260\u001b[0;31m           \u001b[0mfifo_file\u001b[0m\u001b[0;34m.\u001b[0m\u001b[0mwrite\u001b[0m\u001b[0;34m(\u001b[0m\u001b[0mget_code\u001b[0m\u001b[0;34m(\u001b[0m\u001b[0mauth_prompt\u001b[0m\u001b[0;34m)\u001b[0m \u001b[0;34m+\u001b[0m \u001b[0;34m'\\n'\u001b[0m\u001b[0;34m)\u001b[0m\u001b[0;34m\u001b[0m\u001b[0;34m\u001b[0m\u001b[0m\n\u001b[0m\u001b[1;32m    261\u001b[0m       \u001b[0mwrote_to_fifo\u001b[0m \u001b[0;34m=\u001b[0m \u001b[0;32mTrue\u001b[0m\u001b[0;34m\u001b[0m\u001b[0;34m\u001b[0m\u001b[0m\n\u001b[1;32m    262\u001b[0m     \u001b[0;32melif\u001b[0m \u001b[0mcase\u001b[0m \u001b[0;34m==\u001b[0m \u001b[0;36m5\u001b[0m\u001b[0;34m:\u001b[0m\u001b[0;34m\u001b[0m\u001b[0;34m\u001b[0m\u001b[0m\n",
            "\u001b[0;32m/usr/local/lib/python3.7/dist-packages/ipykernel/kernelbase.py\u001b[0m in \u001b[0;36mraw_input\u001b[0;34m(self, prompt)\u001b[0m\n\u001b[1;32m    702\u001b[0m             \u001b[0mself\u001b[0m\u001b[0;34m.\u001b[0m\u001b[0m_parent_ident\u001b[0m\u001b[0;34m,\u001b[0m\u001b[0;34m\u001b[0m\u001b[0;34m\u001b[0m\u001b[0m\n\u001b[1;32m    703\u001b[0m             \u001b[0mself\u001b[0m\u001b[0;34m.\u001b[0m\u001b[0m_parent_header\u001b[0m\u001b[0;34m,\u001b[0m\u001b[0;34m\u001b[0m\u001b[0;34m\u001b[0m\u001b[0m\n\u001b[0;32m--> 704\u001b[0;31m             \u001b[0mpassword\u001b[0m\u001b[0;34m=\u001b[0m\u001b[0;32mFalse\u001b[0m\u001b[0;34m,\u001b[0m\u001b[0;34m\u001b[0m\u001b[0;34m\u001b[0m\u001b[0m\n\u001b[0m\u001b[1;32m    705\u001b[0m         )\n\u001b[1;32m    706\u001b[0m \u001b[0;34m\u001b[0m\u001b[0m\n",
            "\u001b[0;32m/usr/local/lib/python3.7/dist-packages/ipykernel/kernelbase.py\u001b[0m in \u001b[0;36m_input_request\u001b[0;34m(self, prompt, ident, parent, password)\u001b[0m\n\u001b[1;32m    732\u001b[0m             \u001b[0;32mexcept\u001b[0m \u001b[0mKeyboardInterrupt\u001b[0m\u001b[0;34m:\u001b[0m\u001b[0;34m\u001b[0m\u001b[0;34m\u001b[0m\u001b[0m\n\u001b[1;32m    733\u001b[0m                 \u001b[0;31m# re-raise KeyboardInterrupt, to truncate traceback\u001b[0m\u001b[0;34m\u001b[0m\u001b[0;34m\u001b[0m\u001b[0;34m\u001b[0m\u001b[0m\n\u001b[0;32m--> 734\u001b[0;31m                 \u001b[0;32mraise\u001b[0m \u001b[0mKeyboardInterrupt\u001b[0m\u001b[0;34m\u001b[0m\u001b[0;34m\u001b[0m\u001b[0m\n\u001b[0m\u001b[1;32m    735\u001b[0m             \u001b[0;32melse\u001b[0m\u001b[0;34m:\u001b[0m\u001b[0;34m\u001b[0m\u001b[0;34m\u001b[0m\u001b[0m\n\u001b[1;32m    736\u001b[0m                 \u001b[0;32mbreak\u001b[0m\u001b[0;34m\u001b[0m\u001b[0;34m\u001b[0m\u001b[0m\n",
            "\u001b[0;31mKeyboardInterrupt\u001b[0m: "
          ]
        }
      ]
    },
    {
      "cell_type": "code",
      "metadata": {
        "id": "tTN-fDkLAEYw",
        "colab": {
          "base_uri": "https://localhost:8080/"
        },
        "outputId": "8215be88-dccc-415f-85e4-923e178a94f4"
      },
      "source": [
        "# 랜덤시드고정\n",
        "np.random.seed(3)\n",
        "\n",
        "# 1. 데이터 생성\n",
        "train_data = ImageDataGenerator(rescale=1/255.0)\n",
        "train_generator = train_data.flow_from_directory('drive/My Drive/data/hard_handwriting_shape/train',\n",
        "                                                 target_size=(24, 24), batch_size= 3, class_mode='categorical')"
      ],
      "execution_count": null,
      "outputs": [
        {
          "output_type": "stream",
          "text": [
            "Found 45 images belonging to 3 classes.\n"
          ],
          "name": "stdout"
        }
      ]
    },
    {
      "cell_type": "code",
      "metadata": {
        "id": "y0TtZ3BqBGdp",
        "colab": {
          "base_uri": "https://localhost:8080/"
        },
        "outputId": "b8d57d0b-1efc-4404-d3ff-42c0c3b319d1"
      },
      "source": [
        "test_data = ImageDataGenerator(rescale=1/255.0)\n",
        "test_generator = test_data.flow_from_directory('drive/My Drive/data/hard_handwriting_shape/test',\n",
        "                                                 target_size=(24, 24), batch_size= 3, class_mode='categorical')"
      ],
      "execution_count": null,
      "outputs": [
        {
          "output_type": "stream",
          "text": [
            "Found 15 images belonging to 3 classes.\n"
          ],
          "name": "stdout"
        }
      ]
    },
    {
      "cell_type": "code",
      "metadata": {
        "id": "vOMZdWGuCSar",
        "colab": {
          "base_uri": "https://localhost:8080/"
        },
        "outputId": "30e39f5b-ea64-40dc-b95b-5d68dadd5dbd"
      },
      "source": [
        "type(test_generator)"
      ],
      "execution_count": null,
      "outputs": [
        {
          "output_type": "execute_result",
          "data": {
            "text/plain": [
              "tensorflow.python.keras.preprocessing.image.DirectoryIterator"
            ]
          },
          "metadata": {
            "tags": []
          },
          "execution_count": 12
        }
      ]
    },
    {
      "cell_type": "code",
      "metadata": {
        "id": "eJ2UJijiCb7F"
      },
      "source": [
        "# 2. 모델 만들기\n",
        "model = Sequential()\n",
        "model.add(Conv2D(32, (3, 3), activation='relu', input_shape=(24, 24, 3)))\n",
        "model.add(Conv2D(64, (3, 3), activation='relu'))\n",
        "model.add(MaxPool2D(pool_size=(2, 2)))\n",
        "\n",
        "model.add(Flatten())\n",
        "model.add(Dense(128, activation='relu'))\n",
        "model.add(Dense(3, activation='softmax'))\n",
        "\n",
        "# 컴파일\n",
        "model.compile(loss='categorical_crossentropy', optimizer='adam', metrics=['accuracy'])"
      ],
      "execution_count": null,
      "outputs": []
    },
    {
      "cell_type": "code",
      "metadata": {
        "id": "T-8O9Vy4ETr0",
        "colab": {
          "base_uri": "https://localhost:8080/"
        },
        "outputId": "b486d293-780c-4f72-9add-db20cf6c20a6"
      },
      "source": [
        "model.fit_generator(generator=train_generator, \n",
        "                    steps_per_epoch=15, \n",
        "                    epochs=50, \n",
        "                    validation_data=test_generator, \n",
        "                    validation_steps=5)"
      ],
      "execution_count": null,
      "outputs": [
        {
          "output_type": "stream",
          "text": [
            "/usr/local/lib/python3.7/dist-packages/tensorflow/python/keras/engine/training.py:1844: UserWarning: `Model.fit_generator` is deprecated and will be removed in a future version. Please use `Model.fit`, which supports generators.\n",
            "  warnings.warn('`Model.fit_generator` is deprecated and '\n"
          ],
          "name": "stderr"
        },
        {
          "output_type": "stream",
          "text": [
            "Epoch 1/50\n",
            "15/15 [==============================] - 20s 1s/step - loss: 1.0669 - accuracy: 0.4103 - val_loss: 1.9324 - val_accuracy: 0.3333\n",
            "Epoch 2/50\n",
            "15/15 [==============================] - 0s 24ms/step - loss: 0.1803 - accuracy: 0.9444 - val_loss: 3.2891 - val_accuracy: 0.3333\n",
            "Epoch 3/50\n",
            "15/15 [==============================] - 0s 24ms/step - loss: 0.0336 - accuracy: 1.0000 - val_loss: 4.1299 - val_accuracy: 0.3333\n",
            "Epoch 4/50\n",
            "15/15 [==============================] - 0s 24ms/step - loss: 0.0092 - accuracy: 1.0000 - val_loss: 4.6227 - val_accuracy: 0.3333\n",
            "Epoch 5/50\n",
            "15/15 [==============================] - 0s 24ms/step - loss: 7.3415e-04 - accuracy: 1.0000 - val_loss: 4.8906 - val_accuracy: 0.3333\n",
            "Epoch 6/50\n",
            "15/15 [==============================] - 0s 23ms/step - loss: 4.2459e-04 - accuracy: 1.0000 - val_loss: 5.0390 - val_accuracy: 0.3333\n",
            "Epoch 7/50\n",
            "15/15 [==============================] - 0s 23ms/step - loss: 3.5457e-04 - accuracy: 1.0000 - val_loss: 5.1235 - val_accuracy: 0.3333\n",
            "Epoch 8/50\n",
            "15/15 [==============================] - 0s 24ms/step - loss: 2.1115e-04 - accuracy: 1.0000 - val_loss: 5.1987 - val_accuracy: 0.3333\n",
            "Epoch 9/50\n",
            "15/15 [==============================] - 0s 23ms/step - loss: 2.0397e-04 - accuracy: 1.0000 - val_loss: 5.2809 - val_accuracy: 0.3333\n",
            "Epoch 10/50\n",
            "15/15 [==============================] - 0s 24ms/step - loss: 1.5363e-04 - accuracy: 1.0000 - val_loss: 5.3484 - val_accuracy: 0.3333\n",
            "Epoch 11/50\n",
            "15/15 [==============================] - 0s 23ms/step - loss: 1.0390e-04 - accuracy: 1.0000 - val_loss: 5.3959 - val_accuracy: 0.3333\n",
            "Epoch 12/50\n",
            "15/15 [==============================] - 0s 23ms/step - loss: 1.5307e-04 - accuracy: 1.0000 - val_loss: 5.4639 - val_accuracy: 0.3333\n",
            "Epoch 13/50\n",
            "15/15 [==============================] - 0s 24ms/step - loss: 8.6085e-05 - accuracy: 1.0000 - val_loss: 5.5028 - val_accuracy: 0.3333\n",
            "Epoch 14/50\n",
            "15/15 [==============================] - 0s 23ms/step - loss: 9.8778e-05 - accuracy: 1.0000 - val_loss: 5.5470 - val_accuracy: 0.3333\n",
            "Epoch 15/50\n",
            "15/15 [==============================] - 0s 25ms/step - loss: 6.3776e-05 - accuracy: 1.0000 - val_loss: 5.5980 - val_accuracy: 0.3333\n",
            "Epoch 16/50\n",
            "15/15 [==============================] - 0s 25ms/step - loss: 6.4130e-05 - accuracy: 1.0000 - val_loss: 5.6259 - val_accuracy: 0.3333\n",
            "Epoch 17/50\n",
            "15/15 [==============================] - 0s 24ms/step - loss: 6.9817e-05 - accuracy: 1.0000 - val_loss: 5.6769 - val_accuracy: 0.3333\n",
            "Epoch 18/50\n",
            "15/15 [==============================] - 0s 24ms/step - loss: 4.8350e-05 - accuracy: 1.0000 - val_loss: 5.7010 - val_accuracy: 0.3333\n",
            "Epoch 19/50\n",
            "15/15 [==============================] - 0s 25ms/step - loss: 6.3873e-05 - accuracy: 1.0000 - val_loss: 5.7325 - val_accuracy: 0.3333\n",
            "Epoch 20/50\n",
            "15/15 [==============================] - 0s 24ms/step - loss: 6.2963e-05 - accuracy: 1.0000 - val_loss: 5.7763 - val_accuracy: 0.3333\n",
            "Epoch 21/50\n",
            "15/15 [==============================] - 0s 24ms/step - loss: 3.6382e-05 - accuracy: 1.0000 - val_loss: 5.8031 - val_accuracy: 0.3333\n",
            "Epoch 22/50\n",
            "15/15 [==============================] - 0s 25ms/step - loss: 4.1937e-05 - accuracy: 1.0000 - val_loss: 5.8396 - val_accuracy: 0.3333\n",
            "Epoch 23/50\n",
            "15/15 [==============================] - 0s 24ms/step - loss: 3.6861e-05 - accuracy: 1.0000 - val_loss: 5.8518 - val_accuracy: 0.3333\n",
            "Epoch 24/50\n",
            "15/15 [==============================] - 0s 24ms/step - loss: 3.1365e-05 - accuracy: 1.0000 - val_loss: 5.8729 - val_accuracy: 0.3333\n",
            "Epoch 25/50\n",
            "15/15 [==============================] - 0s 25ms/step - loss: 4.2986e-05 - accuracy: 1.0000 - val_loss: 5.9083 - val_accuracy: 0.3333\n",
            "Epoch 26/50\n",
            "15/15 [==============================] - 0s 24ms/step - loss: 2.7344e-05 - accuracy: 1.0000 - val_loss: 5.9261 - val_accuracy: 0.3333\n",
            "Epoch 27/50\n",
            "15/15 [==============================] - 0s 26ms/step - loss: 2.3882e-05 - accuracy: 1.0000 - val_loss: 5.9455 - val_accuracy: 0.3333\n",
            "Epoch 28/50\n",
            "15/15 [==============================] - 0s 25ms/step - loss: 2.4857e-05 - accuracy: 1.0000 - val_loss: 5.9759 - val_accuracy: 0.3333\n",
            "Epoch 29/50\n",
            "15/15 [==============================] - 0s 23ms/step - loss: 2.0402e-05 - accuracy: 1.0000 - val_loss: 5.9864 - val_accuracy: 0.3333\n",
            "Epoch 30/50\n",
            "15/15 [==============================] - 0s 25ms/step - loss: 1.9946e-05 - accuracy: 1.0000 - val_loss: 6.0027 - val_accuracy: 0.3333\n",
            "Epoch 31/50\n",
            "15/15 [==============================] - 0s 24ms/step - loss: 1.1053e-05 - accuracy: 1.0000 - val_loss: 6.0197 - val_accuracy: 0.3333\n",
            "Epoch 32/50\n",
            "15/15 [==============================] - 0s 24ms/step - loss: 2.4471e-05 - accuracy: 1.0000 - val_loss: 6.0475 - val_accuracy: 0.3333\n",
            "Epoch 33/50\n",
            "15/15 [==============================] - 0s 25ms/step - loss: 1.5657e-05 - accuracy: 1.0000 - val_loss: 6.0609 - val_accuracy: 0.3333\n",
            "Epoch 34/50\n",
            "15/15 [==============================] - 0s 23ms/step - loss: 1.4534e-05 - accuracy: 1.0000 - val_loss: 6.0706 - val_accuracy: 0.3333\n",
            "Epoch 35/50\n",
            "15/15 [==============================] - 0s 23ms/step - loss: 1.7792e-05 - accuracy: 1.0000 - val_loss: 6.0936 - val_accuracy: 0.3333\n",
            "Epoch 36/50\n",
            "15/15 [==============================] - 0s 24ms/step - loss: 9.5040e-06 - accuracy: 1.0000 - val_loss: 6.1027 - val_accuracy: 0.3333\n",
            "Epoch 37/50\n",
            "15/15 [==============================] - 0s 27ms/step - loss: 1.2844e-05 - accuracy: 1.0000 - val_loss: 6.1198 - val_accuracy: 0.3333\n",
            "Epoch 38/50\n",
            "15/15 [==============================] - 0s 23ms/step - loss: 8.1450e-06 - accuracy: 1.0000 - val_loss: 6.1285 - val_accuracy: 0.3333\n",
            "Epoch 39/50\n",
            "15/15 [==============================] - 0s 23ms/step - loss: 7.7347e-06 - accuracy: 1.0000 - val_loss: 6.1447 - val_accuracy: 0.3333\n",
            "Epoch 40/50\n",
            "15/15 [==============================] - 0s 23ms/step - loss: 1.1392e-05 - accuracy: 1.0000 - val_loss: 6.1621 - val_accuracy: 0.3333\n",
            "Epoch 41/50\n",
            "15/15 [==============================] - 0s 25ms/step - loss: 9.1847e-06 - accuracy: 1.0000 - val_loss: 6.1745 - val_accuracy: 0.3333\n",
            "Epoch 42/50\n",
            "15/15 [==============================] - 0s 23ms/step - loss: 9.3464e-06 - accuracy: 1.0000 - val_loss: 6.1842 - val_accuracy: 0.3333\n",
            "Epoch 43/50\n",
            "15/15 [==============================] - 0s 24ms/step - loss: 8.9143e-06 - accuracy: 1.0000 - val_loss: 6.2016 - val_accuracy: 0.3333\n",
            "Epoch 44/50\n",
            "15/15 [==============================] - 0s 23ms/step - loss: 7.5851e-06 - accuracy: 1.0000 - val_loss: 6.2109 - val_accuracy: 0.3333\n",
            "Epoch 45/50\n",
            "15/15 [==============================] - 0s 23ms/step - loss: 8.2177e-06 - accuracy: 1.0000 - val_loss: 6.2196 - val_accuracy: 0.3333\n",
            "Epoch 46/50\n",
            "15/15 [==============================] - 0s 23ms/step - loss: 7.2887e-06 - accuracy: 1.0000 - val_loss: 6.2355 - val_accuracy: 0.3333\n",
            "Epoch 47/50\n",
            "15/15 [==============================] - 0s 24ms/step - loss: 6.9028e-06 - accuracy: 1.0000 - val_loss: 6.2422 - val_accuracy: 0.3333\n",
            "Epoch 48/50\n",
            "15/15 [==============================] - 0s 24ms/step - loss: 6.2367e-06 - accuracy: 1.0000 - val_loss: 6.2475 - val_accuracy: 0.3333\n",
            "Epoch 49/50\n",
            "15/15 [==============================] - 0s 25ms/step - loss: 3.6296e-06 - accuracy: 1.0000 - val_loss: 6.2602 - val_accuracy: 0.3333\n",
            "Epoch 50/50\n",
            "15/15 [==============================] - 0s 24ms/step - loss: 6.0890e-06 - accuracy: 1.0000 - val_loss: 6.2810 - val_accuracy: 0.3333\n"
          ],
          "name": "stdout"
        },
        {
          "output_type": "execute_result",
          "data": {
            "text/plain": [
              "<tensorflow.python.keras.callbacks.History at 0x7f38b715b050>"
            ]
          },
          "metadata": {
            "tags": []
          },
          "execution_count": 14
        }
      ]
    },
    {
      "cell_type": "code",
      "metadata": {
        "id": "Qu1yRR4SEkeo",
        "colab": {
          "base_uri": "https://localhost:8080/"
        },
        "outputId": "05017495-fdab-42e9-bc9e-6755b6eef2f2"
      },
      "source": [
        "eval = model.evaluate_generator(test_generator)\n",
        "print(eval[0], eval[1]) # loss, acc"
      ],
      "execution_count": null,
      "outputs": [
        {
          "output_type": "stream",
          "text": [
            "6.2810282707214355 0.3333333432674408\n"
          ],
          "name": "stdout"
        },
        {
          "output_type": "stream",
          "text": [
            "/usr/local/lib/python3.7/dist-packages/tensorflow/python/keras/engine/training.py:1877: UserWarning: `Model.evaluate_generator` is deprecated and will be removed in a future version. Please use `Model.evaluate`, which supports generators.\n",
            "  warnings.warn('`Model.evaluate_generator` is deprecated and '\n"
          ],
          "name": "stderr"
        }
      ]
    }
  ]
}